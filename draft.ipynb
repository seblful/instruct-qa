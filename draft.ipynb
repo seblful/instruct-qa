{
 "cells": [
  {
   "cell_type": "code",
   "execution_count": 16,
   "metadata": {},
   "outputs": [],
   "source": [
    "import os\n",
    "\n",
    "HOME = os.getcwd()\n",
    "DATA = os.path.join(HOME, 'training', 'layout-analysis', 'data', 'raw-data')"
   ]
  },
  {
   "cell_type": "code",
   "execution_count": 24,
   "metadata": {},
   "outputs": [],
   "source": [
    "import cv2\n",
    "import pytesseract\n",
    "from pytesseract import Output\n",
    "\n",
    "# Define a function to check if an image with text is rotated\n",
    "def is_image_rotated(image_path):\n",
    "    # Load the image\n",
    "    image = cv2.imread(image_path)\n",
    "    \n",
    "    # Convert the image to grayscale\n",
    "    gray = cv2.cvtColor(image, cv2.COLOR_BGR2GRAY)\n",
    "    \n",
    "    # Use Tesseract to detect the orientation and script\n",
    "    osd = pytesseract.image_to_osd(gray, output_type=Output.DICT)\n",
    "    osd = pytesseract.image_to_string(gray, lang='rus')\n",
    "    return osd\n",
    "    \n",
    "    # # Check if the image is rotated\n",
    "    # rotation_angle = osd['rotate']\n",
    "    # if rotation_angle != 0:\n",
    "    #     return True, rotation_angle\n",
    "    # else:\n",
    "    #     return False, rotation_angle\n",
    "\n",
    "# Example usage:\n",
    "# rotated, angle = is_image_rotated('path_to_image.jpg')\n",
    "# print(f\"Is the image rotated? {rotated}, Rotation angle: {angle}\")\n"
   ]
  },
  {
   "cell_type": "code",
   "execution_count": 34,
   "metadata": {},
   "outputs": [
    {
     "name": "stdout",
     "output_type": "stream",
     "text": [
      "Противопоказания.\n",
      "\n",
      "Повышенная чувствительйость к действующему веществу или к любому из\n",
      "компонентов препарата.\n",
      "\n",
      "Специфические инфекции в аноректальной области (туберкулез, сифилис,\n",
      "гонорея), ветряная оспа, реакция на вакцинацию, грибковые заболевания,\n",
      "\n",
      "воспалительные заболевания кожи лица (периоральный дерматит, розацеа),\n",
      "\n",
      "другие бактериальные, вирусные, паразит ‚\\[‚.Ё„ЁЗВЁН ые\n",
      "ВАН\n",
      "\n",
      "СОГЛАСО\n",
      "\n",
      "Приказ Министерства здравоохранснмя 3\n",
      "Рэаспублини Велаплуеть\n",
      "\n",
      "Т ноА коожлПо!еМИНЫЦоННо «ботадаееке у -трна га жа омЫ ы ожллья та аат оЙ\n",
      "\n",
      "поражения и атрофические изменения в област\n",
      "\n",
      "средства, опухоли аНОРСКТЗЛЬНОЙ ЗОНЫ.\n",
      "\n",
      "Меры предосторожности.\n",
      "\n",
      "Лечение продолжать до исчезновения симптомов, но не более 5-7 дней.\n",
      "\n",
      "При отсутствии эффекта необходимо пересмотреть проводимую терапию.\n",
      "При применении любых глюкокортикостероидов следует помнить 0\n",
      "возможности системной абсорбции.\n",
      "\n",
      "В случае грибковых инфекций необходимо одновременно применять\n",
      "\n",
      "местный противогрибковый препарат.\n",
      "\n",
      "Взаимодействие с другими лекарственными средствами и другие виды\n",
      "взаимодействий.\n",
      "\n",
      "При одновременном применении суппозиториев Постеризан форте с\n",
      "другими препаратами, содержащими кортикостероиды (в форме таблеток,\n",
      "\n",
      "капель или ИНЪСКЦИЙ)‚ возможно усиление терапевтических и побочных\n",
      "\n",
      "эффектов глюкокортикостероидов.\n",
      "\n",
      "БЕРЕМЕННОСТЬ И ЛАКТАЦИЯ\n",
      "\n",
      "Беременность\n",
      "\n",
      "ОТСУТСТВУЮТ соответствующие данные Ппо применению\n",
      "\n",
      "препаратов беременными женщинами.\n",
      "\n",
      "\n"
     ]
    }
   ],
   "source": [
    "for image_path in os.listdir(DATA):\n",
    "    full_image_path = os.path.join(DATA, image_path)\n",
    "    a = is_image_rotated(image_path=full_image_path)\n",
    "    print(a)\n",
    "\n",
    "    break"
   ]
  },
  {
   "cell_type": "code",
   "execution_count": 2,
   "metadata": {},
   "outputs": [
    {
     "name": "stderr",
     "output_type": "stream",
     "text": [
      "config.json: 100%|██████████| 1.57k/1.57k [00:00<00:00, 1.57MB/s]\n",
      "model.safetensors: 100%|██████████| 120M/120M [01:10<00:00, 1.69MB/s] \n"
     ]
    },
    {
     "name": "stdout",
     "output_type": "stream",
     "text": [
      "Loading detection model vikp/surya_layout on device cpu with dtype torch.float32\n"
     ]
    },
    {
     "name": "stderr",
     "output_type": "stream",
     "text": [
      "preprocessor_config.json: 100%|██████████| 430/430 [00:00<?, ?B/s] \n"
     ]
    },
    {
     "name": "stdout",
     "output_type": "stream",
     "text": [
      "Loading detection model vikp/surya_det2 on device cpu with dtype torch.float32\n"
     ]
    },
    {
     "name": "stderr",
     "output_type": "stream",
     "text": [
      "Detecting bboxes: 100%|██████████| 1/1 [00:42<00:00, 42.80s/it]\n",
      "Detecting bboxes: 100%|██████████| 1/1 [00:36<00:00, 36.48s/it]\n"
     ]
    }
   ],
   "source": [
    "from PIL import Image\n",
    "from surya.detection import batch_text_detection\n",
    "from surya.layout import batch_layout_detection\n",
    "from surya.model.detection.segformer import load_model, load_processor\n",
    "from surya.settings import settings\n",
    "\n",
    "import os\n",
    "\n",
    "HOME = os.getcwd()\n",
    "DATA = os.path.join(HOME, 'training', 'layout-analysis', 'data', 'ls-input-data')\n",
    "\n",
    "for image_path in os.listdir(DATA):\n",
    "    IMAGE_PATH = os.path.join(DATA, image_path)\n",
    "    break\n",
    "    \n",
    "\n",
    "image = Image.open(IMAGE_PATH)\n",
    "model = load_model(checkpoint=settings.LAYOUT_MODEL_CHECKPOINT)\n",
    "processor = load_processor(checkpoint=settings.LAYOUT_MODEL_CHECKPOINT)\n",
    "det_model = load_model()\n",
    "det_processor = load_processor()\n",
    "\n",
    "# layout_predictions is a list of dicts, one per image\n",
    "line_predictions = batch_text_detection([image], det_model, det_processor)\n",
    "layout_predictions = batch_layout_detection([image], model, processor, line_predictions)"
   ]
  },
  {
   "cell_type": "code",
   "execution_count": 25,
   "metadata": {},
   "outputs": [
    {
     "data": {
      "text/plain": [
       "{0: 'Blank',\n",
       " 1: 'Caption',\n",
       " 2: 'Footnote',\n",
       " 3: 'Formula',\n",
       " 4: 'List-item',\n",
       " 5: 'Page-footer',\n",
       " 6: 'Page-header',\n",
       " 7: 'Picture',\n",
       " 8: 'Section-header',\n",
       " 9: 'Table',\n",
       " 10: 'Text',\n",
       " 11: 'Title'}"
      ]
     },
     "execution_count": 25,
     "metadata": {},
     "output_type": "execute_result"
    }
   ],
   "source": [
    "model.config.id2label"
   ]
  },
  {
   "cell_type": "code",
   "execution_count": null,
   "metadata": {},
   "outputs": [],
   "source": []
  }
 ],
 "metadata": {
  "kernelspec": {
   "display_name": "Python 3",
   "language": "python",
   "name": "python3"
  },
  "language_info": {
   "codemirror_mode": {
    "name": "ipython",
    "version": 3
   },
   "file_extension": ".py",
   "mimetype": "text/x-python",
   "name": "python",
   "nbconvert_exporter": "python",
   "pygments_lexer": "ipython3",
   "version": "3.11.8"
  },
  "orig_nbformat": 4
 },
 "nbformat": 4,
 "nbformat_minor": 2
}
